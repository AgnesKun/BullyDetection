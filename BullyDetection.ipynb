{
 "cells": [
  {
   "cell_type": "markdown",
   "metadata": {
    "collapsed": true
   },
   "source": [
    "#### I hope every SNS company such as FB, Twitter, and Line implemnt this kind of detection.\n",
    "This finds the isolated people from the specified community. It is not really called bully, but I named it bully.\n",
    "The idea is that it tries to find the community with the same member with\n",
    "one additional member.  And that addional member is bullied by the specified community.\n",
    "This needs 2 tables.  One table is for Community and another table is for User.\n",
    "- In the followin case, Community A is bulling to user 1005.\n",
    "#### Community table: (User 1001, 1002, 1003, 1004, and 1005 are in Community A...)\n",
    "- A: 1001, 1002, 1003, 1004, 1005\n",
    "- B: 1001, 1002, 1003, 1004\n",
    "- C: 1003, 1004, 1006\n",
    "- D: 10010, 10011\n",
    "- E: 10010, 10011\n",
    "- F: 10010, 10011, 10012\n",
    "#### User table: (User 1001 is in Community A and B...)\n",
    "- 1001: A, B\n",
    "- 1002: A, B\n",
    "- 1003: A, B, C\n",
    "- 1004: A, B, C\n",
    "- 1005: A\n",
    "- 1006: C\n",
    "- 10010: D E\n",
    "- 10011: D E\n",
    "- 10012: D E F"
   ]
  },
  {
   "cell_type": "markdown",
   "metadata": {},
   "source": [
    "### Load Users from file"
   ]
  },
  {
   "cell_type": "code",
   "execution_count": 56,
   "metadata": {
    "collapsed": false
   },
   "outputs": [],
   "source": [
    "\"\"\" loading user and community file\n",
    "format: user communityA communityB\n",
    "\"\"\"\n",
    "\n",
    "from collections import defaultdict\n",
    "\n",
    "def read_users(file):\n",
    "    \"\"\" \n",
    "    read_users load file and return 2 dictionaries.\n",
    "    Parameters\n",
    "    ----------\n",
    "    file: input file\n",
    "    format: user communityA communityB ...\n",
    "    Returns:\n",
    "    --------\n",
    "    dictionary:  The key is user, and the value is list of communities.\n",
    "    dictionary:  The key is community, and the value is list of users.\n",
    "    \n",
    "    The following example reads file and create users and communities.\n",
    "    \n",
    "    >>> users, communities = read_users('user.lst')\n",
    "    >>> print(communities['C'])\n",
    "    [003, 1004, 1006]\n",
    "    \"\"\"\n",
    "    users = defaultdict(list)\n",
    "    communities = defaultdict(list)\n",
    "    f = open(file);\n",
    "    for line in f:\n",
    "        line = line.rstrip()\n",
    "        fields = line.split()\n",
    "        if len(fields) > 1:\n",
    "            for i in range(1, len(fields)):\n",
    "                users[int(fields[0])].append(fields[i])\n",
    "                communities[fields[i]].append(int(fields[0]))\n",
    "    f.close()\n",
    "    for key in communities.keys():\n",
    "        communities[key].sort()\n",
    "    return users, communities"
   ]
  },
  {
   "cell_type": "markdown",
   "metadata": {},
   "source": [
    "### Create csr_matrix from the name of community and communities"
   ]
  },
  {
   "cell_type": "code",
   "execution_count": 57,
   "metadata": {
    "collapsed": false
   },
   "outputs": [],
   "source": [
    "\"\"\" create csr_matrix \"\"\"\n",
    "from scipy.sparse import lil_matrix, csr_matrix\n",
    "import numpy as np\n",
    "\n",
    "def com_matrix(c, communities, shp=None):\n",
    "    \"\"\" com_matrix creates csr_matrix by community name and dictionary of\n",
    "    communities.\n",
    "    Parameter\n",
    "    ---------\n",
    "    c: community name\n",
    "    communities: the dictionary of communities\n",
    "        The key is communitty and the value is the list of users.\n",
    "    shp: shape of output.\n",
    "        If shp is None, this uses the shape from community which user belongs to.\n",
    "    Return\n",
    "    ------\n",
    "    csr_matrix\n",
    "    \n",
    "    The following example creates csr_matrix.\n",
    "    \n",
    "    >>> a = com_matrix('A', communities)\n",
    "    >>> print(a.todense())\n",
    "    [[0 0 0 ..., 1 1 1]]\n",
    "    \"\"\"\n",
    "    # c_users: list of users whom c has\n",
    "    all_users = communities[c]\n",
    "    # maxsize: the biggest userID\n",
    "    maxsize = max(all_users) + 1\n",
    "    \n",
    "    # prepare data, row, and col\n",
    "    cdata = np.ones(len(all_users))\n",
    "    crow = np.zeros(len(all_users))\n",
    "    ccol = np.zeros(len(all_users))\n",
    "    for i, user in enumerate(all_users):\n",
    "        ccol[i] = user\n",
    "\n",
    "    if shp is not None:\n",
    "        tshp = shp\n",
    "    else:\n",
    "        tshp = (1, maxsize)\n",
    "        \n",
    "    com = csr_matrix((cdata, (crow, ccol)), shape=tshp, dtype=np.int64)\n",
    "    return(com)"
   ]
  },
  {
   "cell_type": "code",
   "execution_count": 62,
   "metadata": {
    "collapsed": false
   },
   "outputs": [],
   "source": [
    "\"\"\" find similar community and bullied user \"\"\"\n",
    "\n",
    "from scipy.sparse import lil_matrix, csr_matrix\n",
    "import numpy as np\n",
    "\n",
    "def bully(cmain, communities, users):\n",
    "    \"\"\" Find the community, which has the same users as cmain,\n",
    "    and it has one more user.\n",
    "    Parameger\n",
    "    ---------\n",
    "    cmain: community\n",
    "    communities: the dictionary of communities\n",
    "        The key is communitty and the value is the list of users.\n",
    "    users: the dictionary of users\n",
    "        The key is userID and value is the list of communities.\n",
    "    Return:\n",
    "    a list of tuple (other community, bullied user)\n",
    "    \n",
    "    example:\n",
    "    >>> a = bully('B', communities, users)\n",
    "    >>> print(a)\n",
    "    [('A', 1005)]\n",
    "    \"\"\"\n",
    "    # c_users: list of users whom c has\n",
    "    c_users = communities[cmain]\n",
    "    # all_c: all communities which user belongs to.\n",
    "    all_c = set()\n",
    "    for user in c_users:\n",
    "        for c in users[user]:\n",
    "            all_c.add(c)\n",
    "\n",
    "    # all_users: all users which all communities have.\n",
    "    all_users = set()\n",
    "    # maxsize: the biggest userID + 1\n",
    "    maxsize = 0\n",
    "    for v in all_c:\n",
    "        if maxsize < max(communities[v]):\n",
    "            maxsize = max(communities[v])\n",
    "        for u in communities[v]:\n",
    "            all_users.add(u)\n",
    "    maxsize += 1\n",
    "    \n",
    "    # all_cs: all communities which all associating users belongs to\n",
    "    all_cs = set()\n",
    "    all_users_list = list(all_users)\n",
    "    for user in all_users_list:\n",
    "        for c in users[user]:\n",
    "            all_cs.add(c)\n",
    "\n",
    "    # bully check\n",
    "    btupple = list()\n",
    "    cM = com_matrix(cmain, communities, (1, maxsize))\n",
    "    for c in all_cs:\n",
    "        cS = com_matrix(c, communities, (1, maxsize))\n",
    "        cD = cM - cS\n",
    "#        print(c + ' ' + str(communities[cmain]) + ' ' + str(communities[c]) +\n",
    "#              ' ' + ' ' + str(cD.nnz))\n",
    "        if cD.nnz == 1:\n",
    "            if cM.nnz < cS.nnz:\n",
    "                btupple.append((c, np.array(cD.argmin(axis=1))[0][0]))\n",
    "    return(btupple)"
   ]
  },
  {
   "cell_type": "markdown",
   "metadata": {},
   "source": [
    "### sample test"
   ]
  },
  {
   "cell_type": "code",
   "execution_count": 65,
   "metadata": {
    "collapsed": false
   },
   "outputs": [
    {
     "name": "stdout",
     "output_type": "stream",
     "text": [
      "Community B is bullying 1005\n"
     ]
    }
   ],
   "source": [
    "from scipy.sparse import lil_matrix, csr_matrix\n",
    "import numpy as np\n",
    "\n",
    "users, communities = read_users('user.lst')\n",
    "for c in communities:\n",
    "    bs = bully(c, communities, users)\n",
    "    if len(bs) > 0:\n",
    "        for b in bs:\n",
    "            com, user = b\n",
    "            print('Community ' + c + ' is bullying ' + str(user))"
   ]
  },
  {
   "cell_type": "markdown",
   "metadata": {},
   "source": [
    "### pgsql solution\n",
    "This is relatively simpler than code in python, and it only needs community table."
   ]
  },
  {
   "cell_type": "code",
   "execution_count": null,
   "metadata": {
    "collapsed": true
   },
   "outputs": [],
   "source": []
  }
 ],
 "metadata": {
  "kernelspec": {
   "display_name": "Python 3",
   "language": "python",
   "name": "python3"
  },
  "language_info": {
   "codemirror_mode": {
    "name": "ipython",
    "version": 3
   },
   "file_extension": ".py",
   "mimetype": "text/x-python",
   "name": "python",
   "nbconvert_exporter": "python",
   "pygments_lexer": "ipython3",
   "version": "3.6.0"
  }
 },
 "nbformat": 4,
 "nbformat_minor": 2
}
